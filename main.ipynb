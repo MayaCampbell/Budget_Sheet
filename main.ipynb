{
 "cells": [
  {
   "cell_type": "code",
   "execution_count": 1,
   "metadata": {},
   "outputs": [],
   "source": [
    "import tabula\n",
    "import pandas as pd\n",
    "import glob\n",
    "import numpy as np\n",
    "import re"
   ]
  },
  {
   "cell_type": "code",
   "execution_count": null,
   "metadata": {},
   "outputs": [],
   "source": [
    "# Specify the folder path containing the PDF files\n",
    "pdf_folder_path = r\"C:\\Users\\Learner_XZHCG221\\Budget_Sheet\\Statement\"\n",
    "\n",
    "# Get a list of PDF files in the folder\n",
    "pdf_files = glob.glob(pdf_folder_path + \"/*.pdf\")"
   ]
  },
  {
   "cell_type": "code",
   "execution_count": null,
   "metadata": {},
   "outputs": [],
   "source": [
    "# Initialize an empty list to store DataFrames for each PDF\n",
    "dfs = []\n",
    "\n",
    "# Iterate over each PDF file\n",
    "for pdf_file in pdf_files:\n",
    "    try:\n",
    "         #Read tables from the PDF file\n",
    "\n",
    "        tables = tabula.read_pdf(pdf_file, pages='all', multiple_tables=True)\n",
    "\n",
    "        # Check if any tables were extracted\n",
    "        if tables:\n",
    "            # Extract the desired table from the list of tables\n",
    "            # (You may need to adjust the index based on the structure of your statement)\n",
    "            table = tables[0]\n",
    "\n",
    "            # Append the table DataFrame to the list\n",
    "            dfs.append(table)\n",
    "    except Exception as e:\n",
    "        print(f\"Error occurred while processing {pdf_file}: {str(e)}\")"
   ]
  },
  {
   "cell_type": "code",
   "execution_count": 4,
   "metadata": {},
   "outputs": [],
   "source": [
    "# Check if any tables were extracted\n",
    "if dfs:\n",
    "    # Concatenate all DataFrames into a single DataFrame\n",
    "    combined_df = pd.concat(dfs, ignore_index=True)\n",
    "\n",
    "    # Save the combined DataFrame to a CSV file\n",
    "    combined_df.to_csv('combined_statements.csv', index=False)\n",
    "else:\n",
    "    print(\"No tables found in the PDF files.\")"
   ]
  },
  {
   "cell_type": "code",
   "execution_count": null,
   "metadata": {},
   "outputs": [],
   "source": [
    "import pandas as pd\n",
    "\n",
    "# Read the CSV file into a DataFrame\n",
    "df = pd.read_csv('combined_statements.csv')\n",
    "df"
   ]
  },
  {
   "cell_type": "code",
   "execution_count": null,
   "metadata": {},
   "outputs": [],
   "source": [
    "for col in df.columns:\n",
    "    print(col)"
   ]
  },
  {
   "cell_type": "code",
   "execution_count": null,
   "metadata": {},
   "outputs": [],
   "source": [
    "df.dtypes"
   ]
  },
  {
   "cell_type": "code",
   "execution_count": null,
   "metadata": {},
   "outputs": [],
   "source": [
    "import pandas as pd\n",
    "\n",
    "# Combine columns into Transaction Details\n",
    "df['Transaction Details'] = df['DEPOSITS AND ADDITIONS'].fillna('') + df['ATM & DEBIT CARD WITHDRAWALS'].fillna('') + df['ATM & DEBIT CARD WITHDRAWALS (continued)'].fillna('')\n",
    "\n",
    "# Combine corresponding amounts into Transaction Amount\n",
    "df['Transaction Amount'] = df['Unnamed: 0'].fillna('') + df['Unnamed: 1'].fillna('')\n",
    "\n",
    "# Drop the unnecessary columns\n",
    "df = df.drop(['DEPOSITS AND ADDITIONS', 'ATM & DEBIT CARD WITHDRAWALS', 'ATM & DEBIT CARD WITHDRAWALS (continued)', 'Unnamed: 0', 'Unnamed: 1'], axis=1)\n",
    "\n",
    "# Print the updated DataFrame\n",
    "print(df)\n",
    "\n"
   ]
  },
  {
   "attachments": {},
   "cell_type": "markdown",
   "metadata": {},
   "source": [
    "\n",
    "To combine two columns where the values from one column are appended to the values from the other column, you can use the pd.concat() function in Pandas. Here's an example:"
   ]
  },
  {
   "cell_type": "code",
   "execution_count": null,
   "metadata": {},
   "outputs": [],
   "source": [
    "df['Transaction Amount'] = pd.concat([df['Unnamed: 0'], df['Unnamed: 1']], ignore_index= True)\n",
    "\n",
    "df= df.drop(['Unnamed: 0', 'Unnamed: 1'], axis= 1)\n",
    "\n",
    "print(df)"
   ]
  },
  {
   "cell_type": "code",
   "execution_count": null,
   "metadata": {},
   "outputs": [],
   "source": [
    "df['Transaction Details']= pd.concat([df['DEPOSITS AND ADDITIONS'], df['ATM & DEBIT CARD WITHDRAWALS'], df['ATM & DEBIT CARD WITHDRAWALS (continued)']], ignore_index=True)\n",
    "\n",
    "df= df.drop(['DEPOSITS AND ADDITIONS', 'ATM & DEBIT CARD WITHDRAWALS', 'ATM & DEBIT CARD WITHDRAWALS (continued)'], axis= 1)\n",
    "\n",
    "df"
   ]
  },
  {
   "cell_type": "code",
   "execution_count": null,
   "metadata": {},
   "outputs": [],
   "source": [
    "# Convert 'Transaction Amount' column to string type\n",
    "df['Transaction Amount'] = df['Transaction Amount'].astype(str)\n",
    "\n",
    "# Iterate through the 'Transaction Amount' column and delete rows with the string 'Amount'\n",
    "for index, row in df.iterrows():\n",
    "    if 'AMOUNT' in row['Transaction Amount']:\n",
    "        df.drop(index, inplace=True)\n",
    "\n",
    "# Reset the index of the DataFrame after deleting rows\n",
    "df.reset_index(drop=True, inplace=True)\n",
    "\n",
    "# Print the updated DataFrame\n",
    "print(df)"
   ]
  },
  {
   "cell_type": "code",
   "execution_count": null,
   "metadata": {},
   "outputs": [],
   "source": [
    "# Remove currency symbol ('$')\n",
    "df['Transaction Amount'] = df['Transaction Amount'].str.replace('$', '')\n",
    "\n",
    "# Remove ','\n",
    "df['Transaction Amount'] = df['Transaction Amount'].str.replace(',', '')\n",
    "\n",
    "# Convert empty strings to NaN\n",
    "df['Transaction Amount'].replace('', float('nan'), inplace=True)\n",
    "\n",
    "# Convert 'Transaction Amount' column to float type\n",
    "df['Transaction Amount'] = df['Transaction Amount'].astype(float)\n",
    "\n",
    "df['Transaction Amount'] = df['Transaction Amount'].apply(lambda x: '{:.2f}'.format(x))\n",
    "\n",
    "# Print the updated DataFrame\n",
    "df\n",
    "\n"
   ]
  },
  {
   "cell_type": "code",
   "execution_count": null,
   "metadata": {},
   "outputs": [],
   "source": [
    "#df.to_csv('first.csv', index=False)"
   ]
  },
  {
   "cell_type": "code",
   "execution_count": null,
   "metadata": {},
   "outputs": [],
   "source": [
    "# Filter the DataFrame to only keep columns with 'Card Purchase'\n",
    "df = df[df['Transaction Details'].str.contains('Card Purchase', case=False, na=False)]\n",
    "\n",
    "# Reset the index of the DataFrame\n",
    "df.reset_index(drop=True, inplace=True)\n",
    "\n",
    "df\n"
   ]
  },
  {
   "cell_type": "code",
   "execution_count": null,
   "metadata": {},
   "outputs": [],
   "source": [
    "# Function to extract the first date from the string\n",
    "def extract_date(transaction):\n",
    "    date = re.search(r'\\d{2}/\\d{2}', transaction)  # Assuming the date format is MM/DD\n",
    "    if date:\n",
    "        extracted_date = date.group()\n",
    "        return f'{extracted_date}/2022'  # Add the year\n",
    "    else:\n",
    "        return None\n",
    "\n",
    "# Apply the function to extract the first date and create a new 'Date' column\n",
    "df['Date'] = df['Transaction Details'].apply(extract_date)\n",
    "\n",
    "df\n"
   ]
  },
  {
   "cell_type": "code",
   "execution_count": null,
   "metadata": {},
   "outputs": [],
   "source": [
    "df['Date'].unique()"
   ]
  },
  {
   "cell_type": "code",
   "execution_count": null,
   "metadata": {},
   "outputs": [],
   "source": [
    "# Function to label transactions based on specific keywords\n",
    "def label_transaction(transaction):\n",
    "    keywords_groceries = ['Wholefds', \"Trader Joe's\", 'Foodtown', 'Walmart', 'Wal-MArt', 'King Kullen', 'King Kull', 'Stop & Shop',\n",
    "                          'Food Lion']\n",
    "    keywords_food_drink = [ 'Chipotle',\"Dunns River\", 'Starbucks', 'Coldstone', 'Chimichurri Chicken', 'LA Burdick Chocolate', \n",
    "                           'Wild Ginger', 'Life Cafe', 'Magic Bagels', 'Bww', '5Guys', 'Five Guys', 'DoorDash', \n",
    "                           \"Henrica's\", 'Chick-Fil-A', \"Chili's\", 'New Country Delicat', 'Succotash', 'Capital Grille', \n",
    "                           'Four Burritos Diner', 'Pdq', \"Frank Pepe's Pizze\", 'New Country Deli & Syosset', 'Grillfire',\n",
    "                           'Sweet Peace Bake House']\n",
    "    keywords_shopping= ['Target', 'Walgreens','cvs', 'Bloomys', 'Michaels', 'Staples']\n",
    "    keywords_bills= ['Goldberg', 'Women For Women', 'Gulf Oil', 'E-Z', 'Endocare', 'Lexus', 'Northwell', 'Central Valley']\n",
    "    keywords_misc = ['Bellerose Nail','Fandango', 'Transcript', 'Cinemark', '7-Eleven', \n",
    "                     'Source Serv', 'Safeway', 'Pre-Pt', 'Bp', 'Highs', 'Bodybuilding', 'Casper', 'Adinkra', \n",
    "                     'European Wax Center', 'Robbins Mart', 'NH J Garage', 'Ipic', 'Colpark', 'Apb', 'Topgolf', \n",
    "                     'Shell', 'Convenience', 'Autozone', 'Snaxx', 'Vitamin Shoppe', 'Apple.Com', 'Chandni Hair And Mak', 'New Jersey', \n",
    "                     'Apple Store', 'Hair World', 'Hermes', 'Elkridge Eigen', 'Tst* Thb', 'Fh* 5 Wits' ]\n",
    "    \n",
    "    for keyword in keywords_groceries:\n",
    "        if keyword.lower() in transaction.lower():\n",
    "            return 'Groceries'\n",
    "    for keyword in keywords_food_drink:\n",
    "        if keyword.lower() in transaction.lower():\n",
    "            return 'Food & Drink'\n",
    "    for keyword in keywords_shopping:\n",
    "        if keyword.lower() in transaction.lower():\n",
    "            return 'Shopping'\n",
    "    for keyword in keywords_bills:\n",
    "        if keyword.lower() in transaction.lower():\n",
    "            return 'Bills'\n",
    "    for keyword in keywords_misc:\n",
    "        if keyword.lower() in transaction.lower():\n",
    "            return 'Misc'\n",
    "    return None\n",
    "\n",
    "# Apply the function to label transactions and create a new 'Transaction Type' column\n",
    "df['Transaction Type'] = df['Transaction Details'].apply(label_transaction)\n",
    "\n",
    "# Print the updated DataFrame\n",
    "df\n"
   ]
  },
  {
   "cell_type": "code",
   "execution_count": null,
   "metadata": {},
   "outputs": [],
   "source": [
    "df.dropna(inplace=True)"
   ]
  },
  {
   "cell_type": "code",
   "execution_count": null,
   "metadata": {},
   "outputs": [],
   "source": [
    "df.to_csv('cleaned_statments.csv', index=False)"
   ]
  }
 ],
 "metadata": {
  "kernelspec": {
   "display_name": "Python 3",
   "language": "python",
   "name": "python3"
  },
  "language_info": {
   "codemirror_mode": {
    "name": "ipython",
    "version": 3
   },
   "file_extension": ".py",
   "mimetype": "text/x-python",
   "name": "python",
   "nbconvert_exporter": "python",
   "pygments_lexer": "ipython3",
   "version": "3.10.8"
  },
  "orig_nbformat": 4
 },
 "nbformat": 4,
 "nbformat_minor": 2
}
